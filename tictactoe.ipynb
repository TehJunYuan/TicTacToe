{
 "cells": [
  {
   "cell_type": "code",
   "execution_count": 1,
   "metadata": {},
   "outputs": [
    {
     "name": "stdout",
     "output_type": "stream",
     "text": [
      "  |   |  \n",
      "--+---+--\n",
      "  |   |  \n",
      "--+---+--\n",
      "  |   |  \n",
      "Turn of X. Move to which space? mid-c\n",
      "  |   |  \n",
      "--+---+--\n",
      "  | X |  \n",
      "--+---+--\n",
      "  |   |  \n",
      "Turn of O. Move to which space? mid-l\n",
      "  |   |  \n",
      "--+---+--\n",
      "O | X |  \n",
      "--+---+--\n",
      "  |   |  \n",
      "Turn of X. Move to which space? mid-r\n",
      "  |   |  \n",
      "--+---+--\n",
      "O | X | X\n",
      "--+---+--\n",
      "  |   |  \n",
      "Invalid move, try again.\n",
      "  |   |  \n",
      "--+---+--\n",
      "O | X | X\n",
      "--+---+--\n",
      "  |   |  \n",
      "Turn of O. Move to which space? top-c\n",
      "  | O |  \n",
      "--+---+--\n",
      "O | X | X\n",
      "--+---+--\n",
      "  |   |  \n",
      "Turn of X. Move to which space? top-l\n",
      "X | O |  \n",
      "--+---+--\n",
      "O | X | X\n",
      "--+---+--\n",
      "  |   |  \n",
      "Turn of O. Move to which space? bot-r\n",
      "X | O |  \n",
      "--+---+--\n",
      "O | X | X\n",
      "--+---+--\n",
      "  |   | O\n",
      "Turn of X. Move to which space? top-r\n",
      "X | O | X\n",
      "--+---+--\n",
      "O | X | X\n",
      "--+---+--\n",
      "  |   | O\n",
      "Turn of O. Move to which space? bot-l\n",
      "X | O | X\n",
      "--+---+--\n",
      "O | X | X\n",
      "--+---+--\n",
      "O |   | O\n",
      "Turn of X. Move to which space? bot-c\n",
      "X | O | X\n",
      "--+---+--\n",
      "O | X | X\n",
      "--+---+--\n",
      "O | X | O\n",
      "It's a draw!\n"
     ]
    }
   ],
   "source": [
    "from tic_tac_toe import TicTacToe\n",
    "\n",
    "def main():\n",
    "    game = TicTacToe()\n",
    "    game.play_game()\n",
    "\n",
    "main()\n"
   ]
  }
 ],
 "metadata": {
  "kernelspec": {
   "display_name": "Python 3",
   "language": "python",
   "name": "python3"
  },
  "language_info": {
   "codemirror_mode": {
    "name": "ipython",
    "version": 3
   },
   "file_extension": ".py",
   "mimetype": "text/x-python",
   "name": "python",
   "nbconvert_exporter": "python",
   "pygments_lexer": "ipython3",
   "version": "3.11.4"
  }
 },
 "nbformat": 4,
 "nbformat_minor": 2
}
